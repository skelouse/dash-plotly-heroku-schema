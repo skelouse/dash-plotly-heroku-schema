{
 "cells": [
  {
   "cell_type": "markdown",
   "metadata": {
    "toc": true
   },
   "source": [
    "<h1>Table of Contents<span class=\"tocSkip\"></span></h1>\n",
    "<div class=\"toc\"><ul class=\"toc-item\"></ul></div>"
   ]
  },
  {
   "cell_type": "code",
   "execution_count": 1,
   "metadata": {
    "ExecuteTime": {
     "end_time": "2020-11-23T09:52:43.820908Z",
     "start_time": "2020-11-23T09:52:43.811907Z"
    }
   },
   "outputs": [],
   "source": [
    "# %conda install -c plotly jupyterlab-dash"
   ]
  },
  {
   "cell_type": "code",
   "execution_count": 2,
   "metadata": {
    "ExecuteTime": {
     "end_time": "2020-11-23T09:52:44.294277Z",
     "start_time": "2020-11-23T09:52:43.821904Z"
    }
   },
   "outputs": [],
   "source": [
    "import pandas as pd\n",
    "import numpy as np"
   ]
  },
  {
   "cell_type": "code",
   "execution_count": 3,
   "metadata": {
    "ExecuteTime": {
     "end_time": "2020-11-23T09:52:45.214276Z",
     "start_time": "2020-11-23T09:52:44.296278Z"
    }
   },
   "outputs": [],
   "source": [
    "from jupyter_dash import JupyterDash\n",
    "import dash\n",
    "import dash_core_components as dcc\n",
    "import dash_html_components as html\n",
    "from dash.dependencies import Input, Output\n",
    "from dash.exceptions import PreventUpdate\n",
    "import flask\n",
    "import plotly"
   ]
  },
  {
   "cell_type": "code",
   "execution_count": 42,
   "metadata": {
    "ExecuteTime": {
     "end_time": "2020-11-23T09:59:52.726844Z",
     "start_time": "2020-11-23T09:59:52.710842Z"
    }
   },
   "outputs": [],
   "source": [
    "styles = (\n",
    "\"\"\"\n",
    "<style>\n",
    "\n",
    "h1 {\n",
    "    color: blue\n",
    "}\n",
    ".test-h1 {\n",
    "    color: pink\n",
    "}\n",
    "\n",
    "\n",
    "</style>\n",
    "\n",
    "<!DOCTYPE html>\n",
    "<html>\n",
    "    <body>\n",
    "    <h1>test header in html</h1>\n",
    "        {%app_entry%}\n",
    "        Just some text\n",
    "        <footer>\n",
    "            {%config%}\n",
    "            {%scripts%}\n",
    "            {%renderer%}\n",
    "        </footer>\n",
    "    </body>\n",
    "</html>\n",
    "Just some more text\n",
    "\"\"\")"
   ]
  },
  {
   "cell_type": "code",
   "execution_count": 43,
   "metadata": {
    "ExecuteTime": {
     "end_time": "2020-11-23T09:59:54.211874Z",
     "start_time": "2020-11-23T09:59:54.145869Z"
    }
   },
   "outputs": [
    {
     "data": {
      "text/html": [
       "\n",
       "        <iframe\n",
       "            width=\"100%\"\n",
       "            height=\"650\"\n",
       "            src=\"http://127.0.0.1:8050/\"\n",
       "            frameborder=\"0\"\n",
       "            allowfullscreen\n",
       "        ></iframe>\n",
       "        "
      ],
      "text/plain": [
       "<IPython.lib.display.IFrame at 0x1bc08a24e08>"
      ]
     },
     "metadata": {},
     "output_type": "display_data"
    }
   ],
   "source": [
    "app = JupyterDash(__name__)\n",
    "app.layout = html.Div(id=\"main-div\", children=[\n",
    "    html.H1(\n",
    "        id='app test header',\n",
    "        className='test-h1',\n",
    "        children='app h1 title'\n",
    "    ),\n",
    "    \n",
    "    html.H2(\n",
    "        id='test-h2',\n",
    "        children='app h2 title'\n",
    "    )\n",
    "])\n",
    "app.index_string = styles\n",
    "app.run_server(mode=\"inline\")"
   ]
  },
  {
   "cell_type": "code",
   "execution_count": null,
   "metadata": {},
   "outputs": [],
   "source": []
  }
 ],
 "metadata": {
  "kernelspec": {
   "display_name": "Python 3",
   "language": "python",
   "name": "python3"
  },
  "language_info": {
   "codemirror_mode": {
    "name": "ipython",
    "version": 3
   },
   "file_extension": ".py",
   "mimetype": "text/x-python",
   "name": "python",
   "nbconvert_exporter": "python",
   "pygments_lexer": "ipython3",
   "version": "3.7.9"
  },
  "toc": {
   "base_numbering": 1,
   "nav_menu": {},
   "number_sections": true,
   "sideBar": true,
   "skip_h1_title": false,
   "title_cell": "Table of Contents",
   "title_sidebar": "Contents",
   "toc_cell": true,
   "toc_position": {},
   "toc_section_display": true,
   "toc_window_display": false
  }
 },
 "nbformat": 4,
 "nbformat_minor": 4
}
